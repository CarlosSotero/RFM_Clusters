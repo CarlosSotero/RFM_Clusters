{
 "cells": [
  {
   "cell_type": "code",
   "execution_count": 3,
   "metadata": {
    "executionInfo": {
     "elapsed": 6351,
     "status": "ok",
     "timestamp": 1750296788320,
     "user": {
      "displayName": "Carlos Sotero",
      "userId": "05849404340950261800"
     },
     "user_tz": 180
    },
    "id": "jLT7ZD1pRz2n"
   },
   "outputs": [],
   "source": [
    "#%%capture\n",
    "# Instala\n",
    "#%pip install sidetable"
   ]
  },
  {
   "cell_type": "code",
   "execution_count": 4,
   "metadata": {
    "executionInfo": {
     "elapsed": 17,
     "status": "ok",
     "timestamp": 1750296788387,
     "user": {
      "displayName": "Carlos Sotero",
      "userId": "05849404340950261800"
     },
     "user_tz": 180
    },
    "id": "lP7dtZr6PcVd"
   },
   "outputs": [],
   "source": [
    "# Importando as bibliotecas nescessárias\n",
    "import numpy as np\n",
    "import pandas as pd\n",
    "import sidetable\n",
    "\n",
    "import seaborn as sns\n",
    "import plotly.express as px\n",
    "import matplotlib.pyplot as plt\n",
    "\n",
    "from sklearn.mixture import GaussianMixture\n",
    "from sklearn.cluster import KMeans, DBSCAN, MeanShift, AgglomerativeClustering\n",
    "from sklearn.preprocessing import StandardScaler, PowerTransformer, scale\n",
    "\n",
    "from sklearn.metrics import silhouette_score, davies_bouldin_score, calinski_harabasz_score\n",
    "from scipy.cluster.hierarchy import linkage, dendrogram, fcluster\n",
    "\n",
    "from yellowbrick.cluster import kelbow_visualizer"
   ]
  },
  {
   "cell_type": "code",
   "execution_count": 5,
   "metadata": {
    "colab": {
     "base_uri": "https://localhost:8080/",
     "height": 224
    },
    "executionInfo": {
     "elapsed": 925,
     "status": "ok",
     "timestamp": 1750296789329,
     "user": {
      "displayName": "Carlos Sotero",
      "userId": "05849404340950261800"
     },
     "user_tz": 180
    },
    "id": "YGUYh7QOPwOR",
    "outputId": "95338e9a-b384-4bd4-a6e4-16df74f1582b"
   },
   "outputs": [
    {
     "name": "stdout",
     "output_type": "stream",
     "text": [
      "(541909, 8)\n"
     ]
    },
    {
     "data": {
      "text/html": [
       "<div>\n",
       "<style scoped>\n",
       "    .dataframe tbody tr th:only-of-type {\n",
       "        vertical-align: middle;\n",
       "    }\n",
       "\n",
       "    .dataframe tbody tr th {\n",
       "        vertical-align: top;\n",
       "    }\n",
       "\n",
       "    .dataframe thead th {\n",
       "        text-align: right;\n",
       "    }\n",
       "</style>\n",
       "<table border=\"1\" class=\"dataframe\">\n",
       "  <thead>\n",
       "    <tr style=\"text-align: right;\">\n",
       "      <th></th>\n",
       "      <th>InvoiceNo</th>\n",
       "      <th>StockCode</th>\n",
       "      <th>Description</th>\n",
       "      <th>Quantity</th>\n",
       "      <th>InvoiceDate</th>\n",
       "      <th>UnitPrice</th>\n",
       "      <th>CustomerID</th>\n",
       "      <th>Country</th>\n",
       "    </tr>\n",
       "  </thead>\n",
       "  <tbody>\n",
       "    <tr>\n",
       "      <th>0</th>\n",
       "      <td>536365</td>\n",
       "      <td>85123A</td>\n",
       "      <td>WHITE HANGING HEART T-LIGHT HOLDER</td>\n",
       "      <td>6</td>\n",
       "      <td>12/1/2010 8:26</td>\n",
       "      <td>2.55</td>\n",
       "      <td>17850.0</td>\n",
       "      <td>United Kingdom</td>\n",
       "    </tr>\n",
       "    <tr>\n",
       "      <th>1</th>\n",
       "      <td>536365</td>\n",
       "      <td>71053</td>\n",
       "      <td>WHITE METAL LANTERN</td>\n",
       "      <td>6</td>\n",
       "      <td>12/1/2010 8:26</td>\n",
       "      <td>3.39</td>\n",
       "      <td>17850.0</td>\n",
       "      <td>United Kingdom</td>\n",
       "    </tr>\n",
       "    <tr>\n",
       "      <th>2</th>\n",
       "      <td>536365</td>\n",
       "      <td>84406B</td>\n",
       "      <td>CREAM CUPID HEARTS COAT HANGER</td>\n",
       "      <td>8</td>\n",
       "      <td>12/1/2010 8:26</td>\n",
       "      <td>2.75</td>\n",
       "      <td>17850.0</td>\n",
       "      <td>United Kingdom</td>\n",
       "    </tr>\n",
       "    <tr>\n",
       "      <th>3</th>\n",
       "      <td>536365</td>\n",
       "      <td>84029G</td>\n",
       "      <td>KNITTED UNION FLAG HOT WATER BOTTLE</td>\n",
       "      <td>6</td>\n",
       "      <td>12/1/2010 8:26</td>\n",
       "      <td>3.39</td>\n",
       "      <td>17850.0</td>\n",
       "      <td>United Kingdom</td>\n",
       "    </tr>\n",
       "    <tr>\n",
       "      <th>4</th>\n",
       "      <td>536365</td>\n",
       "      <td>84029E</td>\n",
       "      <td>RED WOOLLY HOTTIE WHITE HEART.</td>\n",
       "      <td>6</td>\n",
       "      <td>12/1/2010 8:26</td>\n",
       "      <td>3.39</td>\n",
       "      <td>17850.0</td>\n",
       "      <td>United Kingdom</td>\n",
       "    </tr>\n",
       "  </tbody>\n",
       "</table>\n",
       "</div>"
      ],
      "text/plain": [
       "  InvoiceNo StockCode                          Description  Quantity  \\\n",
       "0    536365    85123A   WHITE HANGING HEART T-LIGHT HOLDER         6   \n",
       "1    536365     71053                  WHITE METAL LANTERN         6   \n",
       "2    536365    84406B       CREAM CUPID HEARTS COAT HANGER         8   \n",
       "3    536365    84029G  KNITTED UNION FLAG HOT WATER BOTTLE         6   \n",
       "4    536365    84029E       RED WOOLLY HOTTIE WHITE HEART.         6   \n",
       "\n",
       "      InvoiceDate  UnitPrice  CustomerID         Country  \n",
       "0  12/1/2010 8:26       2.55     17850.0  United Kingdom  \n",
       "1  12/1/2010 8:26       3.39     17850.0  United Kingdom  \n",
       "2  12/1/2010 8:26       2.75     17850.0  United Kingdom  \n",
       "3  12/1/2010 8:26       3.39     17850.0  United Kingdom  \n",
       "4  12/1/2010 8:26       3.39     17850.0  United Kingdom  "
      ]
     },
     "execution_count": 5,
     "metadata": {},
     "output_type": "execute_result"
    }
   ],
   "source": [
    "# Atribuíndo o arquivo csv a variavel df\n",
    "df = pd.read_csv('data.csv', encoding='latin1')\n",
    "# Printando o tamanho do df\n",
    "print(df.shape)\n",
    "# Verificando as 5 primeiras linhas do df\n",
    "df.head()"
   ]
  },
  {
   "cell_type": "markdown",
   "metadata": {
    "id": "2u5losjbRe88"
   },
   "source": [
    "## **Data Understanding**"
   ]
  },
  {
   "cell_type": "code",
   "execution_count": 6,
   "metadata": {
    "colab": {
     "base_uri": "https://localhost:8080/",
     "height": 613
    },
    "executionInfo": {
     "elapsed": 259,
     "status": "ok",
     "timestamp": 1750296789630,
     "user": {
      "displayName": "Carlos Sotero",
      "userId": "05849404340950261800"
     },
     "user_tz": 180
    },
    "id": "OCL1rUkKQwkp",
    "outputId": "8b916662-aef5-4078-e435-a6b04d116a6e"
   },
   "outputs": [
    {
     "data": {
      "text/html": [
       "<div>\n",
       "<style scoped>\n",
       "    .dataframe tbody tr th:only-of-type {\n",
       "        vertical-align: middle;\n",
       "    }\n",
       "\n",
       "    .dataframe tbody tr th {\n",
       "        vertical-align: top;\n",
       "    }\n",
       "\n",
       "    .dataframe thead th {\n",
       "        text-align: right;\n",
       "    }\n",
       "</style>\n",
       "<table border=\"1\" class=\"dataframe\">\n",
       "  <thead>\n",
       "    <tr style=\"text-align: right;\">\n",
       "      <th></th>\n",
       "      <th>Quantity</th>\n",
       "      <th>UnitPrice</th>\n",
       "      <th>CustomerID</th>\n",
       "    </tr>\n",
       "  </thead>\n",
       "  <tbody>\n",
       "    <tr>\n",
       "      <th>count</th>\n",
       "      <td>541909.000000</td>\n",
       "      <td>541909.000000</td>\n",
       "      <td>406829.000000</td>\n",
       "    </tr>\n",
       "    <tr>\n",
       "      <th>mean</th>\n",
       "      <td>9.552250</td>\n",
       "      <td>4.611114</td>\n",
       "      <td>15287.690570</td>\n",
       "    </tr>\n",
       "    <tr>\n",
       "      <th>std</th>\n",
       "      <td>218.081158</td>\n",
       "      <td>96.759853</td>\n",
       "      <td>1713.600303</td>\n",
       "    </tr>\n",
       "    <tr>\n",
       "      <th>min</th>\n",
       "      <td>-80995.000000</td>\n",
       "      <td>-11062.060000</td>\n",
       "      <td>12346.000000</td>\n",
       "    </tr>\n",
       "    <tr>\n",
       "      <th>25%</th>\n",
       "      <td>1.000000</td>\n",
       "      <td>1.250000</td>\n",
       "      <td>13953.000000</td>\n",
       "    </tr>\n",
       "    <tr>\n",
       "      <th>50%</th>\n",
       "      <td>3.000000</td>\n",
       "      <td>2.080000</td>\n",
       "      <td>15152.000000</td>\n",
       "    </tr>\n",
       "    <tr>\n",
       "      <th>75%</th>\n",
       "      <td>10.000000</td>\n",
       "      <td>4.130000</td>\n",
       "      <td>16791.000000</td>\n",
       "    </tr>\n",
       "    <tr>\n",
       "      <th>max</th>\n",
       "      <td>80995.000000</td>\n",
       "      <td>38970.000000</td>\n",
       "      <td>18287.000000</td>\n",
       "    </tr>\n",
       "  </tbody>\n",
       "</table>\n",
       "</div>"
      ],
      "text/plain": [
       "            Quantity      UnitPrice     CustomerID\n",
       "count  541909.000000  541909.000000  406829.000000\n",
       "mean        9.552250       4.611114   15287.690570\n",
       "std       218.081158      96.759853    1713.600303\n",
       "min    -80995.000000  -11062.060000   12346.000000\n",
       "25%         1.000000       1.250000   13953.000000\n",
       "50%         3.000000       2.080000   15152.000000\n",
       "75%        10.000000       4.130000   16791.000000\n",
       "max     80995.000000   38970.000000   18287.000000"
      ]
     },
     "metadata": {},
     "output_type": "display_data"
    },
    {
     "name": "stdout",
     "output_type": "stream",
     "text": [
      "\n",
      "\n",
      "<class 'pandas.core.frame.DataFrame'>\n",
      "RangeIndex: 541909 entries, 0 to 541908\n",
      "Data columns (total 8 columns):\n",
      " #   Column       Non-Null Count   Dtype  \n",
      "---  ------       --------------   -----  \n",
      " 0   InvoiceNo    541909 non-null  object \n",
      " 1   StockCode    541909 non-null  object \n",
      " 2   Description  540455 non-null  object \n",
      " 3   Quantity     541909 non-null  int64  \n",
      " 4   InvoiceDate  541909 non-null  object \n",
      " 5   UnitPrice    541909 non-null  float64\n",
      " 6   CustomerID   406829 non-null  float64\n",
      " 7   Country      541909 non-null  object \n",
      "dtypes: float64(2), int64(1), object(5)\n",
      "memory usage: 33.1+ MB\n",
      "None\n"
     ]
    }
   ],
   "source": [
    "# Estatisticas descritivas\n",
    "display(df.describe())\n",
    "print('\\n')\n",
    "# Verficando os dados\n",
    "print(df.info())"
   ]
  },
  {
   "cell_type": "code",
   "execution_count": 7,
   "metadata": {
    "colab": {
     "base_uri": "https://localhost:8080/",
     "height": 300
    },
    "executionInfo": {
     "elapsed": 427,
     "status": "ok",
     "timestamp": 1750296790087,
     "user": {
      "displayName": "Carlos Sotero",
      "userId": "05849404340950261800"
     },
     "user_tz": 180
    },
    "id": "E38Fmj9ZbmUn",
    "outputId": "e9e48416-e0c0-499a-ef22-11efef196d08"
   },
   "outputs": [
    {
     "data": {
      "text/html": [
       "<div>\n",
       "<style scoped>\n",
       "    .dataframe tbody tr th:only-of-type {\n",
       "        vertical-align: middle;\n",
       "    }\n",
       "\n",
       "    .dataframe tbody tr th {\n",
       "        vertical-align: top;\n",
       "    }\n",
       "\n",
       "    .dataframe thead th {\n",
       "        text-align: right;\n",
       "    }\n",
       "</style>\n",
       "<table border=\"1\" class=\"dataframe\">\n",
       "  <thead>\n",
       "    <tr style=\"text-align: right;\">\n",
       "      <th></th>\n",
       "      <th>missing</th>\n",
       "      <th>total</th>\n",
       "      <th>percent</th>\n",
       "    </tr>\n",
       "  </thead>\n",
       "  <tbody>\n",
       "    <tr>\n",
       "      <th>CustomerID</th>\n",
       "      <td>135080</td>\n",
       "      <td>541909</td>\n",
       "      <td>24.926694</td>\n",
       "    </tr>\n",
       "    <tr>\n",
       "      <th>Description</th>\n",
       "      <td>1454</td>\n",
       "      <td>541909</td>\n",
       "      <td>0.268311</td>\n",
       "    </tr>\n",
       "    <tr>\n",
       "      <th>StockCode</th>\n",
       "      <td>0</td>\n",
       "      <td>541909</td>\n",
       "      <td>0.000000</td>\n",
       "    </tr>\n",
       "    <tr>\n",
       "      <th>InvoiceNo</th>\n",
       "      <td>0</td>\n",
       "      <td>541909</td>\n",
       "      <td>0.000000</td>\n",
       "    </tr>\n",
       "    <tr>\n",
       "      <th>Quantity</th>\n",
       "      <td>0</td>\n",
       "      <td>541909</td>\n",
       "      <td>0.000000</td>\n",
       "    </tr>\n",
       "    <tr>\n",
       "      <th>InvoiceDate</th>\n",
       "      <td>0</td>\n",
       "      <td>541909</td>\n",
       "      <td>0.000000</td>\n",
       "    </tr>\n",
       "    <tr>\n",
       "      <th>UnitPrice</th>\n",
       "      <td>0</td>\n",
       "      <td>541909</td>\n",
       "      <td>0.000000</td>\n",
       "    </tr>\n",
       "    <tr>\n",
       "      <th>Country</th>\n",
       "      <td>0</td>\n",
       "      <td>541909</td>\n",
       "      <td>0.000000</td>\n",
       "    </tr>\n",
       "  </tbody>\n",
       "</table>\n",
       "</div>"
      ],
      "text/plain": [
       "             missing   total    percent\n",
       "CustomerID    135080  541909  24.926694\n",
       "Description     1454  541909   0.268311\n",
       "StockCode          0  541909   0.000000\n",
       "InvoiceNo          0  541909   0.000000\n",
       "Quantity           0  541909   0.000000\n",
       "InvoiceDate        0  541909   0.000000\n",
       "UnitPrice          0  541909   0.000000\n",
       "Country            0  541909   0.000000"
      ]
     },
     "execution_count": 7,
     "metadata": {},
     "output_type": "execute_result"
    }
   ],
   "source": [
    "# Verificação de dados faltantes\n",
    "df.stb.missing()"
   ]
  },
  {
   "cell_type": "code",
   "execution_count": 8,
   "metadata": {
    "colab": {
     "base_uri": "https://localhost:8080/"
    },
    "executionInfo": {
     "elapsed": 340,
     "status": "ok",
     "timestamp": 1750296790455,
     "user": {
      "displayName": "Carlos Sotero",
      "userId": "05849404340950261800"
     },
     "user_tz": 180
    },
    "id": "H-ZXvk__b5PL",
    "outputId": "b753ecea-717b-455d-d4a5-ded7149b2b69"
   },
   "outputs": [
    {
     "data": {
      "text/plain": [
       "np.int64(5268)"
      ]
     },
     "execution_count": 8,
     "metadata": {},
     "output_type": "execute_result"
    }
   ],
   "source": [
    "# Dados duplicados\n",
    "df.duplicated().sum()"
   ]
  },
  {
   "cell_type": "code",
   "execution_count": 9,
   "metadata": {
    "colab": {
     "base_uri": "https://localhost:8080/",
     "height": 1000
    },
    "executionInfo": {
     "elapsed": 271,
     "status": "ok",
     "timestamp": 1750296790741,
     "user": {
      "displayName": "Carlos Sotero",
      "userId": "05849404340950261800"
     },
     "user_tz": 180
    },
    "id": "S7qxSG3OUHwN",
    "outputId": "1fd3ecba-dd70-4331-8018-9b94ca9da589"
   },
   "outputs": [
    {
     "data": {
      "application/vnd.plotly.v1+json": {
       "config": {
        "plotlyServerURL": "https://plot.ly"
       },
       "data": [
        {
         "alignmentgroup": "True",
         "hovertemplate": "Proporção=%{x}<br>Country=%{y}<extra></extra>",
         "legendgroup": "",
         "marker": {
          "color": "#636efa",
          "pattern": {
           "shape": ""
          }
         },
         "name": "",
         "offsetgroup": "",
         "orientation": "h",
         "showlegend": false,
         "textposition": "auto",
         "type": "bar",
         "x": [
          0.00001845328274673423,
          0.00003506123721879504,
          0.00005535984824020269,
          0.000059050504789549535,
          0.0000645864896135698,
          0.00008303977236030404,
          0.00010702903993105854,
          0.00011256502475507881,
          0.00012548232267779277,
          0.00023435669088352472,
          0.00026941792810231975,
          0.00027864456947568686,
          0.000335849745990563,
          0.00042258017490021387,
          0.0005314545431059458,
          0.0005369905279299661,
          0.0005480624975780067,
          0.0006292569416636373,
          0.0006606275223330854,
          0.0007178326988479615,
          0.0007399766381440426,
          0.0008230164105043466,
          0.0008525416628991214,
          0.001147794186846869,
          0.001282503150898029,
          0.0013987588322024547,
          0.0014817986045627587,
          0.0020040265062953376,
          0.0023232682978138394,
          0.0028030536492289295,
          0.003694347205896193,
          0.0038179842002993123,
          0.004375273339250686,
          0.0046742165197477805,
          0.015124310539223374,
          0.01579047404638048,
          0.01752139196802415,
          0.9143195628786382
         ],
         "xaxis": "x",
         "y": [
          "Saudi Arabia",
          "Bahrain",
          "Czech Republic",
          "Brazil",
          "Lithuania",
          "Lebanon",
          "RSA",
          "European Community",
          "United Arab Emirates",
          "Malta",
          "Greece",
          "Canada",
          "Iceland",
          "Singapore",
          "Hong Kong",
          "USA",
          "Israel",
          "Poland",
          "Japan",
          "Denmark",
          "Austria",
          "Unspecified",
          "Sweden",
          "Cyprus",
          "Finland",
          "Channel Islands",
          "Italy",
          "Norway",
          "Australia",
          "Portugal",
          "Switzerland",
          "Belgium",
          "Netherlands",
          "Spain",
          "EIRE",
          "France",
          "Germany",
          "United Kingdom"
         ],
         "yaxis": "y"
        }
       ],
       "layout": {
        "barmode": "relative",
        "legend": {
         "tracegroupgap": 0
        },
        "template": {
         "data": {
          "bar": [
           {
            "error_x": {
             "color": "#f2f5fa"
            },
            "error_y": {
             "color": "#f2f5fa"
            },
            "marker": {
             "line": {
              "color": "rgb(17,17,17)",
              "width": 0.5
             },
             "pattern": {
              "fillmode": "overlay",
              "size": 10,
              "solidity": 0.2
             }
            },
            "type": "bar"
           }
          ],
          "barpolar": [
           {
            "marker": {
             "line": {
              "color": "rgb(17,17,17)",
              "width": 0.5
             },
             "pattern": {
              "fillmode": "overlay",
              "size": 10,
              "solidity": 0.2
             }
            },
            "type": "barpolar"
           }
          ],
          "carpet": [
           {
            "aaxis": {
             "endlinecolor": "#A2B1C6",
             "gridcolor": "#506784",
             "linecolor": "#506784",
             "minorgridcolor": "#506784",
             "startlinecolor": "#A2B1C6"
            },
            "baxis": {
             "endlinecolor": "#A2B1C6",
             "gridcolor": "#506784",
             "linecolor": "#506784",
             "minorgridcolor": "#506784",
             "startlinecolor": "#A2B1C6"
            },
            "type": "carpet"
           }
          ],
          "choropleth": [
           {
            "colorbar": {
             "outlinewidth": 0,
             "ticks": ""
            },
            "type": "choropleth"
           }
          ],
          "contour": [
           {
            "colorbar": {
             "outlinewidth": 0,
             "ticks": ""
            },
            "colorscale": [
             [
              0,
              "#0d0887"
             ],
             [
              0.1111111111111111,
              "#46039f"
             ],
             [
              0.2222222222222222,
              "#7201a8"
             ],
             [
              0.3333333333333333,
              "#9c179e"
             ],
             [
              0.4444444444444444,
              "#bd3786"
             ],
             [
              0.5555555555555556,
              "#d8576b"
             ],
             [
              0.6666666666666666,
              "#ed7953"
             ],
             [
              0.7777777777777778,
              "#fb9f3a"
             ],
             [
              0.8888888888888888,
              "#fdca26"
             ],
             [
              1,
              "#f0f921"
             ]
            ],
            "type": "contour"
           }
          ],
          "contourcarpet": [
           {
            "colorbar": {
             "outlinewidth": 0,
             "ticks": ""
            },
            "type": "contourcarpet"
           }
          ],
          "heatmap": [
           {
            "colorbar": {
             "outlinewidth": 0,
             "ticks": ""
            },
            "colorscale": [
             [
              0,
              "#0d0887"
             ],
             [
              0.1111111111111111,
              "#46039f"
             ],
             [
              0.2222222222222222,
              "#7201a8"
             ],
             [
              0.3333333333333333,
              "#9c179e"
             ],
             [
              0.4444444444444444,
              "#bd3786"
             ],
             [
              0.5555555555555556,
              "#d8576b"
             ],
             [
              0.6666666666666666,
              "#ed7953"
             ],
             [
              0.7777777777777778,
              "#fb9f3a"
             ],
             [
              0.8888888888888888,
              "#fdca26"
             ],
             [
              1,
              "#f0f921"
             ]
            ],
            "type": "heatmap"
           }
          ],
          "heatmapgl": [
           {
            "colorbar": {
             "outlinewidth": 0,
             "ticks": ""
            },
            "colorscale": [
             [
              0,
              "#0d0887"
             ],
             [
              0.1111111111111111,
              "#46039f"
             ],
             [
              0.2222222222222222,
              "#7201a8"
             ],
             [
              0.3333333333333333,
              "#9c179e"
             ],
             [
              0.4444444444444444,
              "#bd3786"
             ],
             [
              0.5555555555555556,
              "#d8576b"
             ],
             [
              0.6666666666666666,
              "#ed7953"
             ],
             [
              0.7777777777777778,
              "#fb9f3a"
             ],
             [
              0.8888888888888888,
              "#fdca26"
             ],
             [
              1,
              "#f0f921"
             ]
            ],
            "type": "heatmapgl"
           }
          ],
          "histogram": [
           {
            "marker": {
             "pattern": {
              "fillmode": "overlay",
              "size": 10,
              "solidity": 0.2
             }
            },
            "type": "histogram"
           }
          ],
          "histogram2d": [
           {
            "colorbar": {
             "outlinewidth": 0,
             "ticks": ""
            },
            "colorscale": [
             [
              0,
              "#0d0887"
             ],
             [
              0.1111111111111111,
              "#46039f"
             ],
             [
              0.2222222222222222,
              "#7201a8"
             ],
             [
              0.3333333333333333,
              "#9c179e"
             ],
             [
              0.4444444444444444,
              "#bd3786"
             ],
             [
              0.5555555555555556,
              "#d8576b"
             ],
             [
              0.6666666666666666,
              "#ed7953"
             ],
             [
              0.7777777777777778,
              "#fb9f3a"
             ],
             [
              0.8888888888888888,
              "#fdca26"
             ],
             [
              1,
              "#f0f921"
             ]
            ],
            "type": "histogram2d"
           }
          ],
          "histogram2dcontour": [
           {
            "colorbar": {
             "outlinewidth": 0,
             "ticks": ""
            },
            "colorscale": [
             [
              0,
              "#0d0887"
             ],
             [
              0.1111111111111111,
              "#46039f"
             ],
             [
              0.2222222222222222,
              "#7201a8"
             ],
             [
              0.3333333333333333,
              "#9c179e"
             ],
             [
              0.4444444444444444,
              "#bd3786"
             ],
             [
              0.5555555555555556,
              "#d8576b"
             ],
             [
              0.6666666666666666,
              "#ed7953"
             ],
             [
              0.7777777777777778,
              "#fb9f3a"
             ],
             [
              0.8888888888888888,
              "#fdca26"
             ],
             [
              1,
              "#f0f921"
             ]
            ],
            "type": "histogram2dcontour"
           }
          ],
          "mesh3d": [
           {
            "colorbar": {
             "outlinewidth": 0,
             "ticks": ""
            },
            "type": "mesh3d"
           }
          ],
          "parcoords": [
           {
            "line": {
             "colorbar": {
              "outlinewidth": 0,
              "ticks": ""
             }
            },
            "type": "parcoords"
           }
          ],
          "pie": [
           {
            "automargin": true,
            "type": "pie"
           }
          ],
          "scatter": [
           {
            "marker": {
             "line": {
              "color": "#283442"
             }
            },
            "type": "scatter"
           }
          ],
          "scatter3d": [
           {
            "line": {
             "colorbar": {
              "outlinewidth": 0,
              "ticks": ""
             }
            },
            "marker": {
             "colorbar": {
              "outlinewidth": 0,
              "ticks": ""
             }
            },
            "type": "scatter3d"
           }
          ],
          "scattercarpet": [
           {
            "marker": {
             "colorbar": {
              "outlinewidth": 0,
              "ticks": ""
             }
            },
            "type": "scattercarpet"
           }
          ],
          "scattergeo": [
           {
            "marker": {
             "colorbar": {
              "outlinewidth": 0,
              "ticks": ""
             }
            },
            "type": "scattergeo"
           }
          ],
          "scattergl": [
           {
            "marker": {
             "line": {
              "color": "#283442"
             }
            },
            "type": "scattergl"
           }
          ],
          "scattermapbox": [
           {
            "marker": {
             "colorbar": {
              "outlinewidth": 0,
              "ticks": ""
             }
            },
            "type": "scattermapbox"
           }
          ],
          "scatterpolar": [
           {
            "marker": {
             "colorbar": {
              "outlinewidth": 0,
              "ticks": ""
             }
            },
            "type": "scatterpolar"
           }
          ],
          "scatterpolargl": [
           {
            "marker": {
             "colorbar": {
              "outlinewidth": 0,
              "ticks": ""
             }
            },
            "type": "scatterpolargl"
           }
          ],
          "scatterternary": [
           {
            "marker": {
             "colorbar": {
              "outlinewidth": 0,
              "ticks": ""
             }
            },
            "type": "scatterternary"
           }
          ],
          "surface": [
           {
            "colorbar": {
             "outlinewidth": 0,
             "ticks": ""
            },
            "colorscale": [
             [
              0,
              "#0d0887"
             ],
             [
              0.1111111111111111,
              "#46039f"
             ],
             [
              0.2222222222222222,
              "#7201a8"
             ],
             [
              0.3333333333333333,
              "#9c179e"
             ],
             [
              0.4444444444444444,
              "#bd3786"
             ],
             [
              0.5555555555555556,
              "#d8576b"
             ],
             [
              0.6666666666666666,
              "#ed7953"
             ],
             [
              0.7777777777777778,
              "#fb9f3a"
             ],
             [
              0.8888888888888888,
              "#fdca26"
             ],
             [
              1,
              "#f0f921"
             ]
            ],
            "type": "surface"
           }
          ],
          "table": [
           {
            "cells": {
             "fill": {
              "color": "#506784"
             },
             "line": {
              "color": "rgb(17,17,17)"
             }
            },
            "header": {
             "fill": {
              "color": "#2a3f5f"
             },
             "line": {
              "color": "rgb(17,17,17)"
             }
            },
            "type": "table"
           }
          ]
         },
         "layout": {
          "annotationdefaults": {
           "arrowcolor": "#f2f5fa",
           "arrowhead": 0,
           "arrowwidth": 1
          },
          "autotypenumbers": "strict",
          "coloraxis": {
           "colorbar": {
            "outlinewidth": 0,
            "ticks": ""
           }
          },
          "colorscale": {
           "diverging": [
            [
             0,
             "#8e0152"
            ],
            [
             0.1,
             "#c51b7d"
            ],
            [
             0.2,
             "#de77ae"
            ],
            [
             0.3,
             "#f1b6da"
            ],
            [
             0.4,
             "#fde0ef"
            ],
            [
             0.5,
             "#f7f7f7"
            ],
            [
             0.6,
             "#e6f5d0"
            ],
            [
             0.7,
             "#b8e186"
            ],
            [
             0.8,
             "#7fbc41"
            ],
            [
             0.9,
             "#4d9221"
            ],
            [
             1,
             "#276419"
            ]
           ],
           "sequential": [
            [
             0,
             "#0d0887"
            ],
            [
             0.1111111111111111,
             "#46039f"
            ],
            [
             0.2222222222222222,
             "#7201a8"
            ],
            [
             0.3333333333333333,
             "#9c179e"
            ],
            [
             0.4444444444444444,
             "#bd3786"
            ],
            [
             0.5555555555555556,
             "#d8576b"
            ],
            [
             0.6666666666666666,
             "#ed7953"
            ],
            [
             0.7777777777777778,
             "#fb9f3a"
            ],
            [
             0.8888888888888888,
             "#fdca26"
            ],
            [
             1,
             "#f0f921"
            ]
           ],
           "sequentialminus": [
            [
             0,
             "#0d0887"
            ],
            [
             0.1111111111111111,
             "#46039f"
            ],
            [
             0.2222222222222222,
             "#7201a8"
            ],
            [
             0.3333333333333333,
             "#9c179e"
            ],
            [
             0.4444444444444444,
             "#bd3786"
            ],
            [
             0.5555555555555556,
             "#d8576b"
            ],
            [
             0.6666666666666666,
             "#ed7953"
            ],
            [
             0.7777777777777778,
             "#fb9f3a"
            ],
            [
             0.8888888888888888,
             "#fdca26"
            ],
            [
             1,
             "#f0f921"
            ]
           ]
          },
          "colorway": [
           "#636efa",
           "#EF553B",
           "#00cc96",
           "#ab63fa",
           "#FFA15A",
           "#19d3f3",
           "#FF6692",
           "#B6E880",
           "#FF97FF",
           "#FECB52"
          ],
          "font": {
           "color": "#f2f5fa"
          },
          "geo": {
           "bgcolor": "rgb(17,17,17)",
           "lakecolor": "rgb(17,17,17)",
           "landcolor": "rgb(17,17,17)",
           "showlakes": true,
           "showland": true,
           "subunitcolor": "#506784"
          },
          "hoverlabel": {
           "align": "left"
          },
          "hovermode": "closest",
          "mapbox": {
           "style": "dark"
          },
          "paper_bgcolor": "rgb(17,17,17)",
          "plot_bgcolor": "rgb(17,17,17)",
          "polar": {
           "angularaxis": {
            "gridcolor": "#506784",
            "linecolor": "#506784",
            "ticks": ""
           },
           "bgcolor": "rgb(17,17,17)",
           "radialaxis": {
            "gridcolor": "#506784",
            "linecolor": "#506784",
            "ticks": ""
           }
          },
          "scene": {
           "xaxis": {
            "backgroundcolor": "rgb(17,17,17)",
            "gridcolor": "#506784",
            "gridwidth": 2,
            "linecolor": "#506784",
            "showbackground": true,
            "ticks": "",
            "zerolinecolor": "#C8D4E3"
           },
           "yaxis": {
            "backgroundcolor": "rgb(17,17,17)",
            "gridcolor": "#506784",
            "gridwidth": 2,
            "linecolor": "#506784",
            "showbackground": true,
            "ticks": "",
            "zerolinecolor": "#C8D4E3"
           },
           "zaxis": {
            "backgroundcolor": "rgb(17,17,17)",
            "gridcolor": "#506784",
            "gridwidth": 2,
            "linecolor": "#506784",
            "showbackground": true,
            "ticks": "",
            "zerolinecolor": "#C8D4E3"
           }
          },
          "shapedefaults": {
           "line": {
            "color": "#f2f5fa"
           }
          },
          "sliderdefaults": {
           "bgcolor": "#C8D4E3",
           "bordercolor": "rgb(17,17,17)",
           "borderwidth": 1,
           "tickwidth": 0
          },
          "ternary": {
           "aaxis": {
            "gridcolor": "#506784",
            "linecolor": "#506784",
            "ticks": ""
           },
           "baxis": {
            "gridcolor": "#506784",
            "linecolor": "#506784",
            "ticks": ""
           },
           "bgcolor": "rgb(17,17,17)",
           "caxis": {
            "gridcolor": "#506784",
            "linecolor": "#506784",
            "ticks": ""
           }
          },
          "title": {
           "x": 0.05
          },
          "updatemenudefaults": {
           "bgcolor": "#506784",
           "borderwidth": 0
          },
          "xaxis": {
           "automargin": true,
           "gridcolor": "#283442",
           "linecolor": "#506784",
           "ticks": "",
           "title": {
            "standoff": 15
           },
           "zerolinecolor": "#283442",
           "zerolinewidth": 2
          },
          "yaxis": {
           "automargin": true,
           "gridcolor": "#283442",
           "linecolor": "#506784",
           "ticks": "",
           "title": {
            "standoff": 15
           },
           "zerolinecolor": "#283442",
           "zerolinewidth": 2
          }
         }
        },
        "title": {
         "text": "Distribuição dos países",
         "x": 0.5
        },
        "xaxis": {
         "anchor": "y",
         "domain": [
          0,
          1
         ],
         "title": {
          "text": "Proporção"
         }
        },
        "yaxis": {
         "anchor": "x",
         "domain": [
          0,
          1
         ],
         "title": {
          "text": "Country"
         }
        }
       }
      }
     },
     "metadata": {},
     "output_type": "display_data"
    },
    {
     "data": {
      "text/html": [
       "<div>\n",
       "<style scoped>\n",
       "    .dataframe tbody tr th:only-of-type {\n",
       "        vertical-align: middle;\n",
       "    }\n",
       "\n",
       "    .dataframe tbody tr th {\n",
       "        vertical-align: top;\n",
       "    }\n",
       "\n",
       "    .dataframe thead th {\n",
       "        text-align: right;\n",
       "    }\n",
       "</style>\n",
       "<table border=\"1\" class=\"dataframe\">\n",
       "  <thead>\n",
       "    <tr style=\"text-align: right;\">\n",
       "      <th></th>\n",
       "      <th>Country</th>\n",
       "      <th>count</th>\n",
       "      <th>percent</th>\n",
       "      <th>cumulative_count</th>\n",
       "      <th>cumulative_percent</th>\n",
       "    </tr>\n",
       "  </thead>\n",
       "  <tbody>\n",
       "    <tr>\n",
       "      <th>0</th>\n",
       "      <td>United Kingdom</td>\n",
       "      <td>495478</td>\n",
       "      <td>91.431956</td>\n",
       "      <td>495478</td>\n",
       "      <td>91.431956</td>\n",
       "    </tr>\n",
       "    <tr>\n",
       "      <th>1</th>\n",
       "      <td>Germany</td>\n",
       "      <td>9495</td>\n",
       "      <td>1.752139</td>\n",
       "      <td>504973</td>\n",
       "      <td>93.184095</td>\n",
       "    </tr>\n",
       "    <tr>\n",
       "      <th>2</th>\n",
       "      <td>France</td>\n",
       "      <td>8557</td>\n",
       "      <td>1.579047</td>\n",
       "      <td>513530</td>\n",
       "      <td>94.763143</td>\n",
       "    </tr>\n",
       "    <tr>\n",
       "      <th>3</th>\n",
       "      <td>EIRE</td>\n",
       "      <td>8196</td>\n",
       "      <td>1.512431</td>\n",
       "      <td>521726</td>\n",
       "      <td>96.275574</td>\n",
       "    </tr>\n",
       "    <tr>\n",
       "      <th>4</th>\n",
       "      <td>Spain</td>\n",
       "      <td>2533</td>\n",
       "      <td>0.467422</td>\n",
       "      <td>524259</td>\n",
       "      <td>96.742996</td>\n",
       "    </tr>\n",
       "    <tr>\n",
       "      <th>5</th>\n",
       "      <td>Netherlands</td>\n",
       "      <td>2371</td>\n",
       "      <td>0.437527</td>\n",
       "      <td>526630</td>\n",
       "      <td>97.180523</td>\n",
       "    </tr>\n",
       "    <tr>\n",
       "      <th>6</th>\n",
       "      <td>Belgium</td>\n",
       "      <td>2069</td>\n",
       "      <td>0.381798</td>\n",
       "      <td>528699</td>\n",
       "      <td>97.562321</td>\n",
       "    </tr>\n",
       "    <tr>\n",
       "      <th>7</th>\n",
       "      <td>Switzerland</td>\n",
       "      <td>2002</td>\n",
       "      <td>0.369435</td>\n",
       "      <td>530701</td>\n",
       "      <td>97.931756</td>\n",
       "    </tr>\n",
       "    <tr>\n",
       "      <th>8</th>\n",
       "      <td>Portugal</td>\n",
       "      <td>1519</td>\n",
       "      <td>0.280305</td>\n",
       "      <td>532220</td>\n",
       "      <td>98.212061</td>\n",
       "    </tr>\n",
       "    <tr>\n",
       "      <th>9</th>\n",
       "      <td>Australia</td>\n",
       "      <td>1259</td>\n",
       "      <td>0.232327</td>\n",
       "      <td>533479</td>\n",
       "      <td>98.444388</td>\n",
       "    </tr>\n",
       "    <tr>\n",
       "      <th>10</th>\n",
       "      <td>Norway</td>\n",
       "      <td>1086</td>\n",
       "      <td>0.200403</td>\n",
       "      <td>534565</td>\n",
       "      <td>98.644791</td>\n",
       "    </tr>\n",
       "    <tr>\n",
       "      <th>11</th>\n",
       "      <td>Italy</td>\n",
       "      <td>803</td>\n",
       "      <td>0.148180</td>\n",
       "      <td>535368</td>\n",
       "      <td>98.792971</td>\n",
       "    </tr>\n",
       "    <tr>\n",
       "      <th>12</th>\n",
       "      <td>Channel Islands</td>\n",
       "      <td>758</td>\n",
       "      <td>0.139876</td>\n",
       "      <td>536126</td>\n",
       "      <td>98.932847</td>\n",
       "    </tr>\n",
       "    <tr>\n",
       "      <th>13</th>\n",
       "      <td>Finland</td>\n",
       "      <td>695</td>\n",
       "      <td>0.128250</td>\n",
       "      <td>536821</td>\n",
       "      <td>99.061097</td>\n",
       "    </tr>\n",
       "    <tr>\n",
       "      <th>14</th>\n",
       "      <td>Cyprus</td>\n",
       "      <td>622</td>\n",
       "      <td>0.114779</td>\n",
       "      <td>537443</td>\n",
       "      <td>99.175876</td>\n",
       "    </tr>\n",
       "    <tr>\n",
       "      <th>15</th>\n",
       "      <td>Sweden</td>\n",
       "      <td>462</td>\n",
       "      <td>0.085254</td>\n",
       "      <td>537905</td>\n",
       "      <td>99.261131</td>\n",
       "    </tr>\n",
       "    <tr>\n",
       "      <th>16</th>\n",
       "      <td>Unspecified</td>\n",
       "      <td>446</td>\n",
       "      <td>0.082302</td>\n",
       "      <td>538351</td>\n",
       "      <td>99.343432</td>\n",
       "    </tr>\n",
       "    <tr>\n",
       "      <th>17</th>\n",
       "      <td>Austria</td>\n",
       "      <td>401</td>\n",
       "      <td>0.073998</td>\n",
       "      <td>538752</td>\n",
       "      <td>99.417430</td>\n",
       "    </tr>\n",
       "    <tr>\n",
       "      <th>18</th>\n",
       "      <td>Denmark</td>\n",
       "      <td>389</td>\n",
       "      <td>0.071783</td>\n",
       "      <td>539141</td>\n",
       "      <td>99.489213</td>\n",
       "    </tr>\n",
       "    <tr>\n",
       "      <th>19</th>\n",
       "      <td>Japan</td>\n",
       "      <td>358</td>\n",
       "      <td>0.066063</td>\n",
       "      <td>539499</td>\n",
       "      <td>99.555276</td>\n",
       "    </tr>\n",
       "    <tr>\n",
       "      <th>20</th>\n",
       "      <td>Poland</td>\n",
       "      <td>341</td>\n",
       "      <td>0.062926</td>\n",
       "      <td>539840</td>\n",
       "      <td>99.618202</td>\n",
       "    </tr>\n",
       "    <tr>\n",
       "      <th>21</th>\n",
       "      <td>Israel</td>\n",
       "      <td>297</td>\n",
       "      <td>0.054806</td>\n",
       "      <td>540137</td>\n",
       "      <td>99.673008</td>\n",
       "    </tr>\n",
       "    <tr>\n",
       "      <th>22</th>\n",
       "      <td>USA</td>\n",
       "      <td>291</td>\n",
       "      <td>0.053699</td>\n",
       "      <td>540428</td>\n",
       "      <td>99.726707</td>\n",
       "    </tr>\n",
       "    <tr>\n",
       "      <th>23</th>\n",
       "      <td>Hong Kong</td>\n",
       "      <td>288</td>\n",
       "      <td>0.053145</td>\n",
       "      <td>540716</td>\n",
       "      <td>99.779852</td>\n",
       "    </tr>\n",
       "    <tr>\n",
       "      <th>24</th>\n",
       "      <td>Singapore</td>\n",
       "      <td>229</td>\n",
       "      <td>0.042258</td>\n",
       "      <td>540945</td>\n",
       "      <td>99.822110</td>\n",
       "    </tr>\n",
       "    <tr>\n",
       "      <th>25</th>\n",
       "      <td>Iceland</td>\n",
       "      <td>182</td>\n",
       "      <td>0.033585</td>\n",
       "      <td>541127</td>\n",
       "      <td>99.855695</td>\n",
       "    </tr>\n",
       "    <tr>\n",
       "      <th>26</th>\n",
       "      <td>Canada</td>\n",
       "      <td>151</td>\n",
       "      <td>0.027864</td>\n",
       "      <td>541278</td>\n",
       "      <td>99.883560</td>\n",
       "    </tr>\n",
       "    <tr>\n",
       "      <th>27</th>\n",
       "      <td>Greece</td>\n",
       "      <td>146</td>\n",
       "      <td>0.026942</td>\n",
       "      <td>541424</td>\n",
       "      <td>99.910502</td>\n",
       "    </tr>\n",
       "    <tr>\n",
       "      <th>28</th>\n",
       "      <td>Malta</td>\n",
       "      <td>127</td>\n",
       "      <td>0.023436</td>\n",
       "      <td>541551</td>\n",
       "      <td>99.933937</td>\n",
       "    </tr>\n",
       "    <tr>\n",
       "      <th>29</th>\n",
       "      <td>United Arab Emirates</td>\n",
       "      <td>68</td>\n",
       "      <td>0.012548</td>\n",
       "      <td>541619</td>\n",
       "      <td>99.946485</td>\n",
       "    </tr>\n",
       "    <tr>\n",
       "      <th>30</th>\n",
       "      <td>European Community</td>\n",
       "      <td>61</td>\n",
       "      <td>0.011257</td>\n",
       "      <td>541680</td>\n",
       "      <td>99.957742</td>\n",
       "    </tr>\n",
       "    <tr>\n",
       "      <th>31</th>\n",
       "      <td>RSA</td>\n",
       "      <td>58</td>\n",
       "      <td>0.010703</td>\n",
       "      <td>541738</td>\n",
       "      <td>99.968445</td>\n",
       "    </tr>\n",
       "    <tr>\n",
       "      <th>32</th>\n",
       "      <td>Lebanon</td>\n",
       "      <td>45</td>\n",
       "      <td>0.008304</td>\n",
       "      <td>541783</td>\n",
       "      <td>99.976749</td>\n",
       "    </tr>\n",
       "    <tr>\n",
       "      <th>33</th>\n",
       "      <td>Lithuania</td>\n",
       "      <td>35</td>\n",
       "      <td>0.006459</td>\n",
       "      <td>541818</td>\n",
       "      <td>99.983208</td>\n",
       "    </tr>\n",
       "    <tr>\n",
       "      <th>34</th>\n",
       "      <td>Brazil</td>\n",
       "      <td>32</td>\n",
       "      <td>0.005905</td>\n",
       "      <td>541850</td>\n",
       "      <td>99.989113</td>\n",
       "    </tr>\n",
       "    <tr>\n",
       "      <th>35</th>\n",
       "      <td>Czech Republic</td>\n",
       "      <td>30</td>\n",
       "      <td>0.005536</td>\n",
       "      <td>541880</td>\n",
       "      <td>99.994649</td>\n",
       "    </tr>\n",
       "    <tr>\n",
       "      <th>36</th>\n",
       "      <td>Bahrain</td>\n",
       "      <td>19</td>\n",
       "      <td>0.003506</td>\n",
       "      <td>541899</td>\n",
       "      <td>99.998155</td>\n",
       "    </tr>\n",
       "    <tr>\n",
       "      <th>37</th>\n",
       "      <td>Saudi Arabia</td>\n",
       "      <td>10</td>\n",
       "      <td>0.001845</td>\n",
       "      <td>541909</td>\n",
       "      <td>100.000000</td>\n",
       "    </tr>\n",
       "  </tbody>\n",
       "</table>\n",
       "</div>"
      ],
      "text/plain": [
       "                 Country   count    percent  cumulative_count  \\\n",
       "0         United Kingdom  495478  91.431956            495478   \n",
       "1                Germany    9495   1.752139            504973   \n",
       "2                 France    8557   1.579047            513530   \n",
       "3                   EIRE    8196   1.512431            521726   \n",
       "4                  Spain    2533   0.467422            524259   \n",
       "5            Netherlands    2371   0.437527            526630   \n",
       "6                Belgium    2069   0.381798            528699   \n",
       "7            Switzerland    2002   0.369435            530701   \n",
       "8               Portugal    1519   0.280305            532220   \n",
       "9              Australia    1259   0.232327            533479   \n",
       "10                Norway    1086   0.200403            534565   \n",
       "11                 Italy     803   0.148180            535368   \n",
       "12       Channel Islands     758   0.139876            536126   \n",
       "13               Finland     695   0.128250            536821   \n",
       "14                Cyprus     622   0.114779            537443   \n",
       "15                Sweden     462   0.085254            537905   \n",
       "16           Unspecified     446   0.082302            538351   \n",
       "17               Austria     401   0.073998            538752   \n",
       "18               Denmark     389   0.071783            539141   \n",
       "19                 Japan     358   0.066063            539499   \n",
       "20                Poland     341   0.062926            539840   \n",
       "21                Israel     297   0.054806            540137   \n",
       "22                   USA     291   0.053699            540428   \n",
       "23             Hong Kong     288   0.053145            540716   \n",
       "24             Singapore     229   0.042258            540945   \n",
       "25               Iceland     182   0.033585            541127   \n",
       "26                Canada     151   0.027864            541278   \n",
       "27                Greece     146   0.026942            541424   \n",
       "28                 Malta     127   0.023436            541551   \n",
       "29  United Arab Emirates      68   0.012548            541619   \n",
       "30    European Community      61   0.011257            541680   \n",
       "31                   RSA      58   0.010703            541738   \n",
       "32               Lebanon      45   0.008304            541783   \n",
       "33             Lithuania      35   0.006459            541818   \n",
       "34                Brazil      32   0.005905            541850   \n",
       "35        Czech Republic      30   0.005536            541880   \n",
       "36               Bahrain      19   0.003506            541899   \n",
       "37          Saudi Arabia      10   0.001845            541909   \n",
       "\n",
       "    cumulative_percent  \n",
       "0            91.431956  \n",
       "1            93.184095  \n",
       "2            94.763143  \n",
       "3            96.275574  \n",
       "4            96.742996  \n",
       "5            97.180523  \n",
       "6            97.562321  \n",
       "7            97.931756  \n",
       "8            98.212061  \n",
       "9            98.444388  \n",
       "10           98.644791  \n",
       "11           98.792971  \n",
       "12           98.932847  \n",
       "13           99.061097  \n",
       "14           99.175876  \n",
       "15           99.261131  \n",
       "16           99.343432  \n",
       "17           99.417430  \n",
       "18           99.489213  \n",
       "19           99.555276  \n",
       "20           99.618202  \n",
       "21           99.673008  \n",
       "22           99.726707  \n",
       "23           99.779852  \n",
       "24           99.822110  \n",
       "25           99.855695  \n",
       "26           99.883560  \n",
       "27           99.910502  \n",
       "28           99.933937  \n",
       "29           99.946485  \n",
       "30           99.957742  \n",
       "31           99.968445  \n",
       "32           99.976749  \n",
       "33           99.983208  \n",
       "34           99.989113  \n",
       "35           99.994649  \n",
       "36           99.998155  \n",
       "37          100.000000  "
      ]
     },
     "execution_count": 9,
     "metadata": {},
     "output_type": "execute_result"
    }
   ],
   "source": [
    "# Conta a frequência relativa dos países e transforma em DataFrame\n",
    "df_country_freq = df['Country'].value_counts(normalize=True, ascending=True).reset_index()\n",
    "df_country_freq.columns = ['Country', 'Proporção']\n",
    "\n",
    "# Cria o gráfico de barras horizontal\n",
    "fig = px.bar(df_country_freq, x='Proporção', y='Country', orientation='h',\n",
    "    title=\"Distribuição dos países\",\n",
    "    template='plotly_dark'\n",
    ")\n",
    "\n",
    "# Personalizando o layout\n",
    "fig.update_layout(title_x=0.5)\n",
    "fig.show()\n",
    "\n",
    "# Cria uma tabela de frequências para a coluna 'Country'\n",
    "df.stb.freq(['Country'])"
   ]
  },
  {
   "cell_type": "code",
   "execution_count": 10,
   "metadata": {
    "colab": {
     "base_uri": "https://localhost:8080/",
     "height": 501
    },
    "executionInfo": {
     "elapsed": 10273,
     "status": "ok",
     "timestamp": 1750296801033,
     "user": {
      "displayName": "Carlos Sotero",
      "userId": "05849404340950261800"
     },
     "user_tz": 180
    },
    "id": "pDUuPGPockcs",
    "outputId": "86578fee-9c17-499d-9147-895c5b0a1711"
   },
   "outputs": [
    {
     "data": {
      "text/plain": [
       "<Axes: >"
      ]
     },
     "execution_count": 10,
     "metadata": {},
     "output_type": "execute_result"
    },
    {
     "data": {
      "image/png": "[encoded data removed]",
      "text/plain": [
       "<Figure size 800x550 with 1 Axes>"
      ]
     },
     "metadata": {},
     "output_type": "display_data"
    }
   ],
   "source": [
    "# Verificação de Outliers\n",
    "sns.boxplot(df[['Quantity', 'UnitPrice']])"
   ]
  },
  {
   "cell_type": "markdown",
   "metadata": {
    "id": "nK5BPq-VeHjI"
   },
   "source": [
    "## **Data Preparation**"
   ]
  },
  {
   "cell_type": "code",
   "execution_count": 11,
   "metadata": {
    "id": "NlTkJ_IbfW0t"
   },
   "outputs": [
    {
     "name": "stdout",
     "output_type": "stream",
     "text": [
      "<class 'pandas.core.frame.DataFrame'>\n",
      "Index: 401604 entries, 0 to 541908\n",
      "Data columns (total 8 columns):\n",
      " #   Column       Non-Null Count   Dtype  \n",
      "---  ------       --------------   -----  \n",
      " 0   InvoiceNo    401604 non-null  object \n",
      " 1   StockCode    401604 non-null  object \n",
      " 2   Description  401604 non-null  object \n",
      " 3   Quantity     401604 non-null  int64  \n",
      " 4   InvoiceDate  401604 non-null  object \n",
      " 5   UnitPrice    401604 non-null  float64\n",
      " 6   CustomerID   401604 non-null  float64\n",
      " 7   Country      401604 non-null  object \n",
      "dtypes: float64(2), int64(1), object(5)\n",
      "memory usage: 27.6+ MB\n"
     ]
    }
   ],
   "source": [
    "# Dropando linhas vazias que contém dados ausentes\n",
    "df = df.dropna()\n",
    "df = df.drop_duplicates()\n",
    "df.info()"
   ]
  },
  {
   "cell_type": "code",
   "execution_count": 12,
   "metadata": {
    "colab": {
     "base_uri": "https://localhost:8080/"
    },
    "executionInfo": {
     "elapsed": 26,
     "status": "ok",
     "timestamp": 1750296801077,
     "user": {
      "displayName": "Carlos Sotero",
      "userId": "05849404340950261800"
     },
     "user_tz": 180
    },
    "id": "vN1uNjUnhR9A",
    "outputId": "64a82c2f-8e98-468a-88e6-1c66dfc06e3d"
   },
   "outputs": [
    {
     "name": "stdout",
     "output_type": "stream",
     "text": [
      "Valor mínimo UnitPrice: 0.001\n",
      "Valor mínimo Quantity: 1\n"
     ]
    }
   ],
   "source": [
    "# Retirando todos os 'UnitPrice' que tenha valores iguais que 0\n",
    "df = df[df['UnitPrice'] > 0]\n",
    "\n",
    "# Retirando todos os 'Quantity' que tenha valores menores que 0\n",
    "df = df[df['Quantity'] > 0]\n",
    "\n",
    "# Verificando os valores minimos das colunas 'Quantity' e 'UnitPrice'\n",
    "print(f\"Valor mínimo UnitPrice: {df['UnitPrice'].min()}\")\n",
    "print(f\"Valor mínimo Quantity: {df['Quantity'].min()}\")\n"
   ]
  },
  {
   "cell_type": "code",
   "execution_count": 13,
   "metadata": {
    "colab": {
     "base_uri": "https://localhost:8080/",
     "height": 356
    },
    "executionInfo": {
     "elapsed": 662,
     "status": "error",
     "timestamp": 1750296801762,
     "user": {
      "displayName": "Carlos Sotero",
      "userId": "05849404340950261800"
     },
     "user_tz": 180
    },
    "id": "uN_lWCMWh8u2",
    "outputId": "0bc12e31-3369-43e6-8500-4adb5298baa3"
   },
   "outputs": [
    {
     "name": "stdout",
     "output_type": "stream",
     "text": [
      "<class 'pandas.core.frame.DataFrame'>\n",
      "Index: 392692 entries, 0 to 541908\n",
      "Data columns (total 8 columns):\n",
      " #   Column       Non-Null Count   Dtype         \n",
      "---  ------       --------------   -----         \n",
      " 0   InvoiceNo    392692 non-null  object        \n",
      " 1   StockCode    392692 non-null  object        \n",
      " 2   Description  392692 non-null  object        \n",
      " 3   Quantity     392692 non-null  int64         \n",
      " 4   InvoiceDate  392692 non-null  datetime64[ns]\n",
      " 5   UnitPrice    392692 non-null  float64       \n",
      " 6   CustomerID   392692 non-null  int64         \n",
      " 7   Country      392692 non-null  category      \n",
      "dtypes: category(1), datetime64[ns](1), float64(1), int64(2), object(3)\n",
      "memory usage: 24.3+ MB\n"
     ]
    }
   ],
   "source": [
    "# Transformando a coluna InvoiceDate no tipo datetime\n",
    "df['InvoiceDate'] = pd.to_datetime(df.InvoiceDate, format='%m/%d/%Y %H:%M')\n",
    "\n",
    "# Transformando a coluna CustomerID no tipo int\n",
    "df['CustomerID'] = df['CustomerID'].astype(int)\n",
    "\n",
    "# Transformando a coluna Country no tipo category\n",
    "df['Country'] = df['Country'].astype('category')\n",
    "df.info()"
   ]
  },
  {
   "cell_type": "code",
   "execution_count": 14,
   "metadata": {
    "id": "INWfgFpLl9rZ"
   },
   "outputs": [],
   "source": [
    "features = ['Quantity', 'UnitPrice']\n",
    "\n",
    "# Função para suavizar os outliers\n",
    "def suaviza_outliers_iqr(df, column):\n",
    "    Q1 = df[column].quantile(0.35)\n",
    "    Q3 = df[column].quantile(0.80)\n",
    "    IQR = Q3 - Q1\n",
    "    limite_superior = Q3 + 1.5 * IQR\n",
    "    df[column] = df[column].clip(upper=limite_superior)\n",
    "    return df\n",
    "# Criando uma cópia do df\n",
    "df_suavizado = df.copy()\n",
    "# Loop para adicionar novos valores no dataframe suavizado\n",
    "for col in features:\n",
    "  df_suavizado = suaviza_outliers_iqr(df, col)"
   ]
  },
  {
   "cell_type": "code",
   "execution_count": 15,
   "metadata": {
    "executionInfo": {
     "elapsed": 536,
     "status": "aborted",
     "timestamp": 1750296802198,
     "user": {
      "displayName": "Carlos Sotero",
      "userId": "05849404340950261800"
     },
     "user_tz": 180
    },
    "id": "58iXdUw3m2FL"
   },
   "outputs": [
    {
     "data": {
      "image/png": "[encoded data removed]",
      "text/plain": [
       "<Figure size 800x550 with 1 Axes>"
      ]
     },
     "metadata": {},
     "output_type": "display_data"
    },
    {
     "data": {
      "image/png": "[encoded data removed]",
      "text/plain": [
       "<Figure size 800x550 with 1 Axes>"
      ]
     },
     "metadata": {},
     "output_type": "display_data"
    }
   ],
   "source": [
    "# Verificando se ainda existem outliers\n",
    "for var in features:\n",
    "  sns.boxplot(df_suavizado[var])\n",
    "  plt.title(f'Boxplot {var}')\n",
    "  plt.show()"
   ]
  },
  {
   "cell_type": "code",
   "execution_count": 16,
   "metadata": {
    "id": "JDwqsFgKurJ-"
   },
   "outputs": [
    {
     "data": {
      "text/html": [
       "<div>\n",
       "<style scoped>\n",
       "    .dataframe tbody tr th:only-of-type {\n",
       "        vertical-align: middle;\n",
       "    }\n",
       "\n",
       "    .dataframe tbody tr th {\n",
       "        vertical-align: top;\n",
       "    }\n",
       "\n",
       "    .dataframe thead th {\n",
       "        text-align: right;\n",
       "    }\n",
       "</style>\n",
       "<table border=\"1\" class=\"dataframe\">\n",
       "  <thead>\n",
       "    <tr style=\"text-align: right;\">\n",
       "      <th></th>\n",
       "      <th>Quantity</th>\n",
       "      <th>InvoiceDate</th>\n",
       "      <th>UnitPrice</th>\n",
       "      <th>CustomerID</th>\n",
       "    </tr>\n",
       "  </thead>\n",
       "  <tbody>\n",
       "    <tr>\n",
       "      <th>count</th>\n",
       "      <td>392692.000000</td>\n",
       "      <td>392692</td>\n",
       "      <td>392692.000000</td>\n",
       "      <td>392692.000000</td>\n",
       "    </tr>\n",
       "    <tr>\n",
       "      <th>mean</th>\n",
       "      <td>8.295103</td>\n",
       "      <td>2011-07-10 19:13:07.771892480</td>\n",
       "      <td>2.675493</td>\n",
       "      <td>15287.843865</td>\n",
       "    </tr>\n",
       "    <tr>\n",
       "      <th>min</th>\n",
       "      <td>1.000000</td>\n",
       "      <td>2010-12-01 08:26:00</td>\n",
       "      <td>0.001000</td>\n",
       "      <td>12346.000000</td>\n",
       "    </tr>\n",
       "    <tr>\n",
       "      <th>25%</th>\n",
       "      <td>2.000000</td>\n",
       "      <td>2011-04-07 11:12:00</td>\n",
       "      <td>1.250000</td>\n",
       "      <td>13955.000000</td>\n",
       "    </tr>\n",
       "    <tr>\n",
       "      <th>50%</th>\n",
       "      <td>6.000000</td>\n",
       "      <td>2011-07-31 12:02:00</td>\n",
       "      <td>1.950000</td>\n",
       "      <td>15150.000000</td>\n",
       "    </tr>\n",
       "    <tr>\n",
       "      <th>75%</th>\n",
       "      <td>12.000000</td>\n",
       "      <td>2011-10-20 12:53:00</td>\n",
       "      <td>3.750000</td>\n",
       "      <td>16791.000000</td>\n",
       "    </tr>\n",
       "    <tr>\n",
       "      <th>max</th>\n",
       "      <td>25.500000</td>\n",
       "      <td>2011-12-09 12:50:00</td>\n",
       "      <td>8.500000</td>\n",
       "      <td>18287.000000</td>\n",
       "    </tr>\n",
       "    <tr>\n",
       "      <th>std</th>\n",
       "      <td>7.889571</td>\n",
       "      <td>NaN</td>\n",
       "      <td>2.283680</td>\n",
       "      <td>1713.539549</td>\n",
       "    </tr>\n",
       "  </tbody>\n",
       "</table>\n",
       "</div>"
      ],
      "text/plain": [
       "            Quantity                    InvoiceDate      UnitPrice  \\\n",
       "count  392692.000000                         392692  392692.000000   \n",
       "mean        8.295103  2011-07-10 19:13:07.771892480       2.675493   \n",
       "min         1.000000            2010-12-01 08:26:00       0.001000   \n",
       "25%         2.000000            2011-04-07 11:12:00       1.250000   \n",
       "50%         6.000000            2011-07-31 12:02:00       1.950000   \n",
       "75%        12.000000            2011-10-20 12:53:00       3.750000   \n",
       "max        25.500000            2011-12-09 12:50:00       8.500000   \n",
       "std         7.889571                            NaN       2.283680   \n",
       "\n",
       "          CustomerID  \n",
       "count  392692.000000  \n",
       "mean    15287.843865  \n",
       "min     12346.000000  \n",
       "25%     13955.000000  \n",
       "50%     15150.000000  \n",
       "75%     16791.000000  \n",
       "max     18287.000000  \n",
       "std      1713.539549  "
      ]
     },
     "execution_count": 16,
     "metadata": {},
     "output_type": "execute_result"
    }
   ],
   "source": [
    "df_suavizado.describe()"
   ]
  },
  {
   "cell_type": "code",
   "execution_count": 17,
   "metadata": {
    "executionInfo": {
     "elapsed": 537,
     "status": "aborted",
     "timestamp": 1750296802206,
     "user": {
      "displayName": "Carlos Sotero",
      "userId": "05849404340950261800"
     },
     "user_tz": 180
    },
    "id": "CY2NyPb_wS3m"
   },
   "outputs": [
    {
     "data": {
      "text/html": [
       "<div>\n",
       "<style scoped>\n",
       "    .dataframe tbody tr th:only-of-type {\n",
       "        vertical-align: middle;\n",
       "    }\n",
       "\n",
       "    .dataframe tbody tr th {\n",
       "        vertical-align: top;\n",
       "    }\n",
       "\n",
       "    .dataframe thead th {\n",
       "        text-align: right;\n",
       "    }\n",
       "</style>\n",
       "<table border=\"1\" class=\"dataframe\">\n",
       "  <thead>\n",
       "    <tr style=\"text-align: right;\">\n",
       "      <th></th>\n",
       "      <th>InvoiceNo</th>\n",
       "      <th>StockCode</th>\n",
       "      <th>Description</th>\n",
       "      <th>Quantity</th>\n",
       "      <th>InvoiceDate</th>\n",
       "      <th>UnitPrice</th>\n",
       "      <th>CustomerID</th>\n",
       "      <th>Country</th>\n",
       "      <th>TotalPrice</th>\n",
       "    </tr>\n",
       "  </thead>\n",
       "  <tbody>\n",
       "    <tr>\n",
       "      <th>0</th>\n",
       "      <td>536365</td>\n",
       "      <td>85123A</td>\n",
       "      <td>WHITE HANGING HEART T-LIGHT HOLDER</td>\n",
       "      <td>6.0</td>\n",
       "      <td>2010-12-01 08:26:00</td>\n",
       "      <td>2.55</td>\n",
       "      <td>17850</td>\n",
       "      <td>United Kingdom</td>\n",
       "      <td>15.30</td>\n",
       "    </tr>\n",
       "    <tr>\n",
       "      <th>1</th>\n",
       "      <td>536365</td>\n",
       "      <td>71053</td>\n",
       "      <td>WHITE METAL LANTERN</td>\n",
       "      <td>6.0</td>\n",
       "      <td>2010-12-01 08:26:00</td>\n",
       "      <td>3.39</td>\n",
       "      <td>17850</td>\n",
       "      <td>United Kingdom</td>\n",
       "      <td>20.34</td>\n",
       "    </tr>\n",
       "    <tr>\n",
       "      <th>2</th>\n",
       "      <td>536365</td>\n",
       "      <td>84406B</td>\n",
       "      <td>CREAM CUPID HEARTS COAT HANGER</td>\n",
       "      <td>8.0</td>\n",
       "      <td>2010-12-01 08:26:00</td>\n",
       "      <td>2.75</td>\n",
       "      <td>17850</td>\n",
       "      <td>United Kingdom</td>\n",
       "      <td>22.00</td>\n",
       "    </tr>\n",
       "    <tr>\n",
       "      <th>3</th>\n",
       "      <td>536365</td>\n",
       "      <td>84029G</td>\n",
       "      <td>KNITTED UNION FLAG HOT WATER BOTTLE</td>\n",
       "      <td>6.0</td>\n",
       "      <td>2010-12-01 08:26:00</td>\n",
       "      <td>3.39</td>\n",
       "      <td>17850</td>\n",
       "      <td>United Kingdom</td>\n",
       "      <td>20.34</td>\n",
       "    </tr>\n",
       "    <tr>\n",
       "      <th>4</th>\n",
       "      <td>536365</td>\n",
       "      <td>84029E</td>\n",
       "      <td>RED WOOLLY HOTTIE WHITE HEART.</td>\n",
       "      <td>6.0</td>\n",
       "      <td>2010-12-01 08:26:00</td>\n",
       "      <td>3.39</td>\n",
       "      <td>17850</td>\n",
       "      <td>United Kingdom</td>\n",
       "      <td>20.34</td>\n",
       "    </tr>\n",
       "  </tbody>\n",
       "</table>\n",
       "</div>"
      ],
      "text/plain": [
       "  InvoiceNo StockCode                          Description  Quantity  \\\n",
       "0    536365    85123A   WHITE HANGING HEART T-LIGHT HOLDER       6.0   \n",
       "1    536365     71053                  WHITE METAL LANTERN       6.0   \n",
       "2    536365    84406B       CREAM CUPID HEARTS COAT HANGER       8.0   \n",
       "3    536365    84029G  KNITTED UNION FLAG HOT WATER BOTTLE       6.0   \n",
       "4    536365    84029E       RED WOOLLY HOTTIE WHITE HEART.       6.0   \n",
       "\n",
       "          InvoiceDate  UnitPrice  CustomerID         Country  TotalPrice  \n",
       "0 2010-12-01 08:26:00       2.55       17850  United Kingdom       15.30  \n",
       "1 2010-12-01 08:26:00       3.39       17850  United Kingdom       20.34  \n",
       "2 2010-12-01 08:26:00       2.75       17850  United Kingdom       22.00  \n",
       "3 2010-12-01 08:26:00       3.39       17850  United Kingdom       20.34  \n",
       "4 2010-12-01 08:26:00       3.39       17850  United Kingdom       20.34  "
      ]
     },
     "execution_count": 17,
     "metadata": {},
     "output_type": "execute_result"
    }
   ],
   "source": [
    "# Criando coluna do valor total da compra\n",
    "df_suavizado['TotalPrice'] = df_suavizado['UnitPrice'] * df_suavizado['Quantity']\n",
    "df_suavizado.head()"
   ]
  },
  {
   "cell_type": "code",
   "execution_count": 18,
   "metadata": {
    "executionInfo": {
     "elapsed": 545,
     "status": "aborted",
     "timestamp": 1750296802219,
     "user": {
      "displayName": "Carlos Sotero",
      "userId": "05849404340950261800"
     },
     "user_tz": 180
    },
    "id": "Pj_hYG05lTpC"
   },
   "outputs": [
    {
     "data": {
      "text/plain": [
       "min   2010-12-01 08:26:00\n",
       "max   2011-12-09 12:50:00\n",
       "Name: InvoiceDate, dtype: datetime64[ns]"
      ]
     },
     "execution_count": 18,
     "metadata": {},
     "output_type": "execute_result"
    }
   ],
   "source": [
    "# Calculando a data inicial e data final do df\n",
    "df_suavizado.InvoiceDate.agg(['min','max'])"
   ]
  },
  {
   "cell_type": "code",
   "execution_count": 19,
   "metadata": {
    "id": "nh9FKVLxkt-B"
   },
   "outputs": [
    {
     "data": {
      "text/html": [
       "<div>\n",
       "<style scoped>\n",
       "    .dataframe tbody tr th:only-of-type {\n",
       "        vertical-align: middle;\n",
       "    }\n",
       "\n",
       "    .dataframe tbody tr th {\n",
       "        vertical-align: top;\n",
       "    }\n",
       "\n",
       "    .dataframe thead th {\n",
       "        text-align: right;\n",
       "    }\n",
       "</style>\n",
       "<table border=\"1\" class=\"dataframe\">\n",
       "  <thead>\n",
       "    <tr style=\"text-align: right;\">\n",
       "      <th></th>\n",
       "      <th>R</th>\n",
       "      <th>F</th>\n",
       "      <th>M</th>\n",
       "    </tr>\n",
       "    <tr>\n",
       "      <th>CustomerID</th>\n",
       "      <th></th>\n",
       "      <th></th>\n",
       "      <th></th>\n",
       "    </tr>\n",
       "  </thead>\n",
       "  <tbody>\n",
       "    <tr>\n",
       "      <th>12346</th>\n",
       "      <td>346</td>\n",
       "      <td>1</td>\n",
       "      <td>26.520000</td>\n",
       "    </tr>\n",
       "    <tr>\n",
       "      <th>12347</th>\n",
       "      <td>23</td>\n",
       "      <td>7</td>\n",
       "      <td>21.351071</td>\n",
       "    </tr>\n",
       "    <tr>\n",
       "      <th>12348</th>\n",
       "      <td>96</td>\n",
       "      <td>4</td>\n",
       "      <td>17.559839</td>\n",
       "    </tr>\n",
       "    <tr>\n",
       "      <th>12349</th>\n",
       "      <td>39</td>\n",
       "      <td>1</td>\n",
       "      <td>18.669863</td>\n",
       "    </tr>\n",
       "    <tr>\n",
       "      <th>12350</th>\n",
       "      <td>331</td>\n",
       "      <td>1</td>\n",
       "      <td>17.817647</td>\n",
       "    </tr>\n",
       "    <tr>\n",
       "      <th>...</th>\n",
       "      <td>...</td>\n",
       "      <td>...</td>\n",
       "      <td>...</td>\n",
       "    </tr>\n",
       "    <tr>\n",
       "      <th>18280</th>\n",
       "      <td>298</td>\n",
       "      <td>1</td>\n",
       "      <td>17.770000</td>\n",
       "    </tr>\n",
       "    <tr>\n",
       "      <th>18281</th>\n",
       "      <td>201</td>\n",
       "      <td>1</td>\n",
       "      <td>9.131429</td>\n",
       "    </tr>\n",
       "    <tr>\n",
       "      <th>18282</th>\n",
       "      <td>28</td>\n",
       "      <td>2</td>\n",
       "      <td>12.877083</td>\n",
       "    </tr>\n",
       "    <tr>\n",
       "      <th>18283</th>\n",
       "      <td>24</td>\n",
       "      <td>16</td>\n",
       "      <td>2.824730</td>\n",
       "    </tr>\n",
       "    <tr>\n",
       "      <th>18287</th>\n",
       "      <td>63</td>\n",
       "      <td>3</td>\n",
       "      <td>21.354500</td>\n",
       "    </tr>\n",
       "  </tbody>\n",
       "</table>\n",
       "<p>4338 rows × 3 columns</p>\n",
       "</div>"
      ],
      "text/plain": [
       "              R   F          M\n",
       "CustomerID                    \n",
       "12346       346   1  26.520000\n",
       "12347        23   7  21.351071\n",
       "12348        96   4  17.559839\n",
       "12349        39   1  18.669863\n",
       "12350       331   1  17.817647\n",
       "...         ...  ..        ...\n",
       "18280       298   1  17.770000\n",
       "18281       201   1   9.131429\n",
       "18282        28   2  12.877083\n",
       "18283        24  16   2.824730\n",
       "18287        63   3  21.354500\n",
       "\n",
       "[4338 rows x 3 columns]"
      ]
     },
     "execution_count": 19,
     "metadata": {},
     "output_type": "execute_result"
    }
   ],
   "source": [
    "# Calculando o RFM e transfomrando em df\n",
    "df_rfm = (\n",
    "  df_suavizado.groupby('CustomerID') #Agrupando pelo CustomerID\n",
    "  .agg(\n",
    "      R = ('InvoiceDate', lambda x: (pd.Timestamp('2011-12-31') - x.max()).days), # Calcula a diferença em dias do dia 31/12/2011 da última data de compra\n",
    "      F = ('InvoiceNo', 'nunique'), # Calcula a frequência com base nas transações únicas\n",
    "      M = ('TotalPrice', 'mean') # Calcula a média do total gasto\n",
    "  )\n",
    ")\n",
    "\n",
    "df_rfm"
   ]
  },
  {
   "cell_type": "code",
   "execution_count": 20,
   "metadata": {
    "executionInfo": {
     "elapsed": 20611,
     "status": "aborted",
     "timestamp": 1750296802232,
     "user": {
      "displayName": "Carlos Sotero",
      "userId": "05849404340950261800"
     },
     "user_tz": 180
    },
    "id": "c9Fq9y6dokWr"
   },
   "outputs": [
    {
     "data": {
      "text/plain": [
       "<Axes: >"
      ]
     },
     "execution_count": 20,
     "metadata": {},
     "output_type": "execute_result"
    },
    {
     "data": {
      "image/png": "[encoded data removed]",
      "text/plain": [
       "<Figure size 800x550 with 1 Axes>"
      ]
     },
     "metadata": {},
     "output_type": "display_data"
    }
   ],
   "source": [
    "# Aplicando a mesma escala para melhor visualização dos três boxplots\n",
    "df_rfm.apply(scale).plot.box()"
   ]
  },
  {
   "cell_type": "code",
   "execution_count": 21,
   "metadata": {
    "id": "5DjJn39VSznn"
   },
   "outputs": [
    {
     "data": {
      "text/html": [
       "<div>\n",
       "<style scoped>\n",
       "    .dataframe tbody tr th:only-of-type {\n",
       "        vertical-align: middle;\n",
       "    }\n",
       "\n",
       "    .dataframe tbody tr th {\n",
       "        vertical-align: top;\n",
       "    }\n",
       "\n",
       "    .dataframe thead th {\n",
       "        text-align: right;\n",
       "    }\n",
       "</style>\n",
       "<table border=\"1\" class=\"dataframe\">\n",
       "  <thead>\n",
       "    <tr style=\"text-align: right;\">\n",
       "      <th></th>\n",
       "      <th>R</th>\n",
       "      <th>F</th>\n",
       "      <th>M</th>\n",
       "    </tr>\n",
       "  </thead>\n",
       "  <tbody>\n",
       "    <tr>\n",
       "      <th>count</th>\n",
       "      <td>4338.000000</td>\n",
       "      <td>4338.000000</td>\n",
       "      <td>4338.000000</td>\n",
       "    </tr>\n",
       "    <tr>\n",
       "      <th>mean</th>\n",
       "      <td>111.272937</td>\n",
       "      <td>3.607653</td>\n",
       "      <td>17.834861</td>\n",
       "    </tr>\n",
       "    <tr>\n",
       "      <th>std</th>\n",
       "      <td>95.545467</td>\n",
       "      <td>3.358326</td>\n",
       "      <td>10.278171</td>\n",
       "    </tr>\n",
       "    <tr>\n",
       "      <th>min</th>\n",
       "      <td>21.000000</td>\n",
       "      <td>1.000000</td>\n",
       "      <td>2.115000</td>\n",
       "    </tr>\n",
       "    <tr>\n",
       "      <th>25%</th>\n",
       "      <td>38.000000</td>\n",
       "      <td>1.000000</td>\n",
       "      <td>10.999918</td>\n",
       "    </tr>\n",
       "    <tr>\n",
       "      <th>50%</th>\n",
       "      <td>71.000000</td>\n",
       "      <td>2.000000</td>\n",
       "      <td>16.506453</td>\n",
       "    </tr>\n",
       "    <tr>\n",
       "      <th>75%</th>\n",
       "      <td>162.750000</td>\n",
       "      <td>5.000000</td>\n",
       "      <td>21.094614</td>\n",
       "    </tr>\n",
       "    <tr>\n",
       "      <th>max</th>\n",
       "      <td>332.000000</td>\n",
       "      <td>13.000000</td>\n",
       "      <td>45.434241</td>\n",
       "    </tr>\n",
       "  </tbody>\n",
       "</table>\n",
       "</div>"
      ],
      "text/plain": [
       "                 R            F            M\n",
       "count  4338.000000  4338.000000  4338.000000\n",
       "mean    111.272937     3.607653    17.834861\n",
       "std      95.545467     3.358326    10.278171\n",
       "min      21.000000     1.000000     2.115000\n",
       "25%      38.000000     1.000000    10.999918\n",
       "50%      71.000000     2.000000    16.506453\n",
       "75%     162.750000     5.000000    21.094614\n",
       "max     332.000000    13.000000    45.434241"
      ]
     },
     "execution_count": 21,
     "metadata": {},
     "output_type": "execute_result"
    }
   ],
   "source": [
    "# Aplica o método clip para limitar valores extremos acima do percentil 95 em cada coluna do DataFrame RFM\n",
    "df_rfm = df_rfm.apply(lambda x: x.clip(upper=x.quantile(0.95)))\n",
    "df_rfm.describe()"
   ]
  },
  {
   "cell_type": "code",
   "execution_count": 22,
   "metadata": {
    "executionInfo": {
     "elapsed": 20597,
     "status": "aborted",
     "timestamp": 1750296802239,
     "user": {
      "displayName": "Carlos Sotero",
      "userId": "05849404340950261800"
     },
     "user_tz": 180
    },
    "id": "3x68M-ECQye_"
   },
   "outputs": [
    {
     "data": {
      "text/html": [
       "<div>\n",
       "<style scoped>\n",
       "    .dataframe tbody tr th:only-of-type {\n",
       "        vertical-align: middle;\n",
       "    }\n",
       "\n",
       "    .dataframe tbody tr th {\n",
       "        vertical-align: top;\n",
       "    }\n",
       "\n",
       "    .dataframe thead th {\n",
       "        text-align: right;\n",
       "    }\n",
       "</style>\n",
       "<table border=\"1\" class=\"dataframe\">\n",
       "  <thead>\n",
       "    <tr style=\"text-align: right;\">\n",
       "      <th></th>\n",
       "      <th>R</th>\n",
       "      <th>F</th>\n",
       "      <th>M</th>\n",
       "    </tr>\n",
       "    <tr>\n",
       "      <th>CustomerID</th>\n",
       "      <th></th>\n",
       "      <th></th>\n",
       "      <th></th>\n",
       "    </tr>\n",
       "  </thead>\n",
       "  <tbody>\n",
       "    <tr>\n",
       "      <th>12346</th>\n",
       "      <td>1.595602</td>\n",
       "      <td>-1.159361</td>\n",
       "      <td>0.932698</td>\n",
       "    </tr>\n",
       "    <tr>\n",
       "      <th>12347</th>\n",
       "      <td>-1.563861</td>\n",
       "      <td>1.245963</td>\n",
       "      <td>0.521414</td>\n",
       "    </tr>\n",
       "    <tr>\n",
       "      <th>12348</th>\n",
       "      <td>0.324062</td>\n",
       "      <td>0.669951</td>\n",
       "      <td>0.172450</td>\n",
       "    </tr>\n",
       "    <tr>\n",
       "      <th>12349</th>\n",
       "      <td>-0.809808</td>\n",
       "      <td>-1.159361</td>\n",
       "      <td>0.279684</td>\n",
       "    </tr>\n",
       "    <tr>\n",
       "      <th>12350</th>\n",
       "      <td>1.592877</td>\n",
       "      <td>-1.159361</td>\n",
       "      <td>0.197769</td>\n",
       "    </tr>\n",
       "    <tr>\n",
       "      <th>...</th>\n",
       "      <td>...</td>\n",
       "      <td>...</td>\n",
       "      <td>...</td>\n",
       "    </tr>\n",
       "    <tr>\n",
       "      <th>18280</th>\n",
       "      <td>1.496964</td>\n",
       "      <td>-1.159361</td>\n",
       "      <td>0.193109</td>\n",
       "    </tr>\n",
       "    <tr>\n",
       "      <th>18281</th>\n",
       "      <td>1.118760</td>\n",
       "      <td>-1.159361</td>\n",
       "      <td>-0.853066</td>\n",
       "    </tr>\n",
       "    <tr>\n",
       "      <th>18282</th>\n",
       "      <td>-1.275243</td>\n",
       "      <td>-0.207385</td>\n",
       "      <td>-0.340442</td>\n",
       "    </tr>\n",
       "    <tr>\n",
       "      <th>18283</th>\n",
       "      <td>-1.500650</td>\n",
       "      <td>1.728477</td>\n",
       "      <td>-2.196951</td>\n",
       "    </tr>\n",
       "    <tr>\n",
       "      <th>18287</th>\n",
       "      <td>-0.182563</td>\n",
       "      <td>0.324178</td>\n",
       "      <td>0.521709</td>\n",
       "    </tr>\n",
       "  </tbody>\n",
       "</table>\n",
       "<p>4338 rows × 3 columns</p>\n",
       "</div>"
      ],
      "text/plain": [
       "                   R         F         M\n",
       "CustomerID                              \n",
       "12346       1.595602 -1.159361  0.932698\n",
       "12347      -1.563861  1.245963  0.521414\n",
       "12348       0.324062  0.669951  0.172450\n",
       "12349      -0.809808 -1.159361  0.279684\n",
       "12350       1.592877 -1.159361  0.197769\n",
       "...              ...       ...       ...\n",
       "18280       1.496964 -1.159361  0.193109\n",
       "18281       1.118760 -1.159361 -0.853066\n",
       "18282      -1.275243 -0.207385 -0.340442\n",
       "18283      -1.500650  1.728477 -2.196951\n",
       "18287      -0.182563  0.324178  0.521709\n",
       "\n",
       "[4338 rows x 3 columns]"
      ]
     },
     "execution_count": 22,
     "metadata": {},
     "output_type": "execute_result"
    }
   ],
   "source": [
    "scaler = PowerTransformer()\n",
    "# Aplica o escalonamento aos dados RFM e reatribui como DataFrame com os mesmos índices e colunas originais\n",
    "\n",
    "df_rfm_scaled = pd.DataFrame(\n",
    "    scaler.fit_transform(df_rfm),  # Padroniza os dados RFM com o objeto scaler\n",
    "    index=df_rfm.index,            # Mantém os mesmos índices do df_rfm\n",
    "    columns=df_rfm.columns         # Mantém os mesmos nomes da colunas do df_rfm\n",
    ")\n",
    "df_rfm_scaled"
   ]
  }
 ],
 "metadata": {
  "colab": {
   "provenance": []
  },
  "kernelspec": {
   "display_name": "Python 3",
   "name": "python3"
  },
  "language_info": {
   "codemirror_mode": {
    "name": "ipython",
    "version": 3
   },
   "file_extension": ".py",
   "mimetype": "text/x-python",
   "name": "python",
   "nbconvert_exporter": "python",
   "pygments_lexer": "ipython3",
   "version": "3.13.0"
  }
 },
 "nbformat": 4,
 "nbformat_minor": 0
}
